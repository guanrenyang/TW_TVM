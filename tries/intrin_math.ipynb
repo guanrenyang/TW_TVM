{
  "cells": [
    {
      "cell_type": "markdown",
      "metadata": {},
      "source": [
        "\n",
        "# Intrinsics and Math Functions\n",
        "**Author**: [Tianqi Chen](https://tqchen.github.io)\n",
        "\n",
        "While TVM supports basic arithmetic operations. In many cases\n",
        "usually we will need more complicated builtin functions.\n",
        "For example :code:`exp` to take the exponential of the function.\n",
        "\n",
        "These functions are target system dependent and may have different\n",
        "names of different target platforms. In this tutorial, we will learn\n",
        "how we can invoke these target specific functions, and how we can unify\n",
        "the interface via TVM's intrinsic API.\n"
      ]
    },
    {
      "cell_type": "code",
      "execution_count": 1,
      "metadata": {
        "collapsed": false
      },
      "outputs": [],
      "source": [
        "from __future__ import absolute_import, print_function\n",
        "\n",
        "import numpy as np\n",
        "\n",
        "import tvm\n",
        "from tvm import te\n",
        "from tvm.ir import register_op_attr, register_intrin_lowering"
      ]
    },
    {
      "cell_type": "markdown",
      "metadata": {},
      "source": [
        "## Direct Declare Extern Math Call\n",
        "The most straight-forward way to call target specific function is via\n",
        "extern function call construct in tvm.\n",
        "In the following example, we use :any:`tvm.tir.call_pure_extern` to call\n",
        ":code:`__expf` function, which is only available under CUDA.\n",
        "\n",
        "\n"
      ]
    },
    {
      "cell_type": "code",
      "execution_count": 2,
      "metadata": {
        "collapsed": false
      },
      "outputs": [
        {
          "name": "stdout",
          "output_type": "stream",
          "text": [
            "\n",
            "#ifdef _WIN32\n",
            "  using uint = unsigned int;\n",
            "  using uchar = unsigned char;\n",
            "  using ushort = unsigned short;\n",
            "  using int64_t = long long;\n",
            "  using uint64_t = unsigned long long;\n",
            "#else\n",
            "  #define uint unsigned int\n",
            "  #define uchar unsigned char\n",
            "  #define ushort unsigned short\n",
            "  #define int64_t long long\n",
            "  #define uint64_t unsigned long long\n",
            "#endif\n",
            "extern \"C\" __global__ void __launch_bounds__(64) myexp_kernel0(float* __restrict__ B, float* __restrict__ A, int n, int stride, int stride_1) {\n",
            "  if (((int)blockIdx.x) < (n >> 6)) {\n",
            "    B[(((((int)blockIdx.x) * 64) + ((int)threadIdx.x)) * stride)] = __expf(A[(((((int)blockIdx.x) * 64) + ((int)threadIdx.x)) * stride_1)]);\n",
            "  } else {\n",
            "    if (((((int)blockIdx.x) * 64) + ((int)threadIdx.x)) < n) {\n",
            "      B[(((((int)blockIdx.x) * 64) + ((int)threadIdx.x)) * stride)] = __expf(A[(((((int)blockIdx.x) * 64) + ((int)threadIdx.x)) * stride_1)]);\n",
            "    }\n",
            "  }\n",
            "}\n",
            "\n",
            "\n"
          ]
        }
      ],
      "source": [
        "n = te.var(\"n\")\n",
        "A = te.placeholder((n,), name=\"A\")\n",
        "B = te.compute(A.shape, lambda i: tvm.tir.call_pure_extern(\"float32\", \"__expf\", A[i]), name=\"B\")\n",
        "s = te.create_schedule(B.op)\n",
        "num_thread = 64\n",
        "bx, tx = s[B].split(B.op.axis[0], factor=num_thread)\n",
        "s[B].bind(bx, te.thread_axis(\"blockIdx.x\"))\n",
        "s[B].bind(tx, te.thread_axis(\"threadIdx.x\"))\n",
        "f = tvm.build(s, [A, B], \"cuda\", name=\"myexp\")\n",
        "print(f.imported_modules[0].get_source())"
      ]
    },
    {
      "cell_type": "markdown",
      "metadata": {},
      "source": [
        "## Unified Intrinsic Call\n",
        "The above code verifies that direct external call can be used to\n",
        "call into device specific functions.\n",
        "However, the above way only works for CUDA target with float type.\n",
        "Ideally, we want to write same code for any device and any data type.\n",
        "\n",
        "TVM intrinsic provides the user a mechanism to achieve this, and this\n",
        "is the recommended way to solve the problem.\n",
        "The following code use te.exp instead, which create an intrinsic call\n",
        ":py::func:`tvm.te.exp` to do the exponential.\n",
        "\n",
        "\n"
      ]
    },
    {
      "cell_type": "code",
      "execution_count": 3,
      "metadata": {
        "collapsed": false
      },
      "outputs": [
        {
          "name": "stdout",
          "output_type": "stream",
          "text": [
            "\n",
            "#ifdef _WIN32\n",
            "  using uint = unsigned int;\n",
            "  using uchar = unsigned char;\n",
            "  using ushort = unsigned short;\n",
            "  using int64_t = long long;\n",
            "  using uint64_t = unsigned long long;\n",
            "#else\n",
            "  #define uint unsigned int\n",
            "  #define uchar unsigned char\n",
            "  #define ushort unsigned short\n",
            "  #define int64_t long long\n",
            "  #define uint64_t unsigned long long\n",
            "#endif\n",
            "extern \"C\" __global__ void __launch_bounds__(64) myexp_kernel0(float* __restrict__ B, float* __restrict__ A, int n, int stride, int stride_1) {\n",
            "  if (((int)blockIdx.x) < (n >> 6)) {\n",
            "    B[(((((int)blockIdx.x) * 64) + ((int)threadIdx.x)) * stride)] = __expf(A[(((((int)blockIdx.x) * 64) + ((int)threadIdx.x)) * stride_1)]);\n",
            "  } else {\n",
            "    if (((((int)blockIdx.x) * 64) + ((int)threadIdx.x)) < n) {\n",
            "      B[(((((int)blockIdx.x) * 64) + ((int)threadIdx.x)) * stride)] = __expf(A[(((((int)blockIdx.x) * 64) + ((int)threadIdx.x)) * stride_1)]);\n",
            "    }\n",
            "  }\n",
            "}\n",
            "\n",
            "\n"
          ]
        }
      ],
      "source": [
        "n = te.var(\"n\")\n",
        "A = te.placeholder((n,), name=\"A\")\n",
        "B = te.compute(A.shape, lambda i: te.exp(A[i]), name=\"B\")\n",
        "s = te.create_schedule(B.op)\n",
        "num_thread = 64\n",
        "bx, tx = s[B].split(B.op.axis[0], factor=num_thread)\n",
        "s[B].bind(bx, te.thread_axis(\"blockIdx.x\"))\n",
        "s[B].bind(tx, te.thread_axis(\"threadIdx.x\"))\n",
        "fcuda = tvm.build(s, [A, B], \"cuda\", name=\"myexp\")\n",
        "print(fcuda.imported_modules[0].get_source())"
      ]
    },
    {
      "cell_type": "markdown",
      "metadata": {},
      "source": [
        "We can find that the code works for both CUDA and opencl.\n",
        "The same te.exp can also be used for float64 data types.\n",
        "\n",
        "\n"
      ]
    },
    {
      "cell_type": "code",
      "execution_count": 4,
      "metadata": {
        "collapsed": false
      },
      "outputs": [
        {
          "name": "stdout",
          "output_type": "stream",
          "text": [
            "// Function: myexp_kernel0\n",
            "__kernel void myexp_kernel0(__global float* restrict B, __global float* restrict A, int n, int stride, int stride_1) {\n",
            "  if (((int)get_group_id(0)) < (n >> 6)) {\n",
            "    B[(((((int)get_group_id(0)) * 64) + ((int)get_local_id(0))) * stride)] = exp(A[(((((int)get_group_id(0)) * 64) + ((int)get_local_id(0))) * stride_1)]);\n",
            "  } else {\n",
            "    if (((((int)get_group_id(0)) * 64) + ((int)get_local_id(0))) < n) {\n",
            "      B[(((((int)get_group_id(0)) * 64) + ((int)get_local_id(0))) * stride)] = exp(A[(((((int)get_group_id(0)) * 64) + ((int)get_local_id(0))) * stride_1)]);\n",
            "    }\n",
            "  }\n",
            "}\n",
            "\n",
            "\n"
          ]
        }
      ],
      "source": [
        "fopencl = tvm.build(s, [A, B], \"opencl\", name=\"myexp\")\n",
        "print(fopencl.imported_modules[0].get_source())"
      ]
    },
    {
      "cell_type": "markdown",
      "metadata": {},
      "source": [
        "## Intrinsic Lowering Rule\n",
        "When :py:func:`tvm.te.exp` is called, TVM creates an intrinsic Call Expr.\n",
        "TVM uses transformation rules to transform the intrinsic\n",
        "call to device specific extern calls.\n",
        "\n",
        "TVM also allows user to customize the rules during runtime.\n",
        "The following example customizes CUDA lowering rule for :code:`exp`.\n",
        "\n",
        "\n"
      ]
    },
    {
      "cell_type": "code",
      "execution_count": 5,
      "metadata": {
        "collapsed": false
      },
      "outputs": [
        {
          "data": {
            "text/plain": [
              "<function __main__.my_cuda_math_rule(op)>"
            ]
          },
          "execution_count": 5,
          "metadata": {},
          "output_type": "execute_result"
        }
      ],
      "source": [
        "def my_cuda_math_rule(op):\n",
        "    \"\"\"Customized CUDA intrinsic lowering rule\"\"\"\n",
        "    assert isinstance(op, tvm.tir.Call)\n",
        "    name = op.op.name\n",
        "    assert name.startswith(\"tir.\")\n",
        "    dispatch_name = name[4:]\n",
        "    if op.dtype == \"float32\":\n",
        "        # call float function\n",
        "        return tvm.tir.call_pure_extern(\"float32\", \"%sf\" % dispatch_name, op.args[0])\n",
        "    elif op.dtype == \"float64\":\n",
        "        # call double function\n",
        "        return tvm.tir.call_pure_extern(\"float32\", dispatch_name, op.args[0])\n",
        "    else:\n",
        "        # cannot do translation, return self.\n",
        "        return op\n",
        "\n",
        "\n",
        "register_intrin_lowering(\"tir.exp\", target=\"cuda\", f=my_cuda_math_rule, level=99)"
      ]
    },
    {
      "cell_type": "markdown",
      "metadata": {},
      "source": [
        "Register the rule to TVM with override option to override existing rule.\n",
        "Notice the difference between the printed code from previous one:\n",
        "our new rule uses math function :code:`expf` instead of\n",
        "fast math version :code:`__expf`.\n",
        "\n",
        "\n"
      ]
    },
    {
      "cell_type": "code",
      "execution_count": 6,
      "metadata": {
        "collapsed": false
      },
      "outputs": [
        {
          "name": "stdout",
          "output_type": "stream",
          "text": [
            "\n",
            "#ifdef _WIN32\n",
            "  using uint = unsigned int;\n",
            "  using uchar = unsigned char;\n",
            "  using ushort = unsigned short;\n",
            "  using int64_t = long long;\n",
            "  using uint64_t = unsigned long long;\n",
            "#else\n",
            "  #define uint unsigned int\n",
            "  #define uchar unsigned char\n",
            "  #define ushort unsigned short\n",
            "  #define int64_t long long\n",
            "  #define uint64_t unsigned long long\n",
            "#endif\n",
            "extern \"C\" __global__ void __launch_bounds__(64) myexp_kernel0(float* __restrict__ B, float* __restrict__ A, int n, int stride, int stride_1) {\n",
            "  if (((int)blockIdx.x) < (n >> 6)) {\n",
            "    B[(((((int)blockIdx.x) * 64) + ((int)threadIdx.x)) * stride)] = expf(A[(((((int)blockIdx.x) * 64) + ((int)threadIdx.x)) * stride_1)]);\n",
            "  } else {\n",
            "    if (((((int)blockIdx.x) * 64) + ((int)threadIdx.x)) < n) {\n",
            "      B[(((((int)blockIdx.x) * 64) + ((int)threadIdx.x)) * stride)] = expf(A[(((((int)blockIdx.x) * 64) + ((int)threadIdx.x)) * stride_1)]);\n",
            "    }\n",
            "  }\n",
            "}\n",
            "\n",
            "\n"
          ]
        }
      ],
      "source": [
        "fcuda = tvm.build(s, [A, B], \"cuda\", name=\"myexp\")\n",
        "print(fcuda.imported_modules[0].get_source())"
      ]
    },
    {
      "cell_type": "markdown",
      "metadata": {},
      "source": [
        "## Add Your Own Intrinsic\n",
        "If there is an intrinsic that is not provided by TVM.\n",
        "User can easily add new intrinsic by using the intrinsic rule system.\n",
        "The following example add an intrinsic :code:`mylog` to the system.\n",
        "\n",
        "\n"
      ]
    },
    {
      "cell_type": "code",
      "execution_count": 10,
      "metadata": {
        "collapsed": false
      },
      "outputs": [
        {
          "ename": "TVMError",
          "evalue": "Traceback (most recent call last):\n  6: TVMFuncCall\n  5: _ZN3tvm7runtime13Packed\n  4: tvm::runtime::TypedPackedFunc<void (tvm::runtime::String, tvm::runtime::String, tvm::runtime::TVMArgValue, int)>::AssignTypedLambda<tvm::__mk_TVM12::{lambda(tvm::runtime::String, tvm::runtime::String, tvm::runtime::TVMArgValue, int)#1}>(tvm::__mk_TVM12::{lambda(tvm::runtime::String, tvm::runtime::String, tvm::runtime::TVMArgValue, int)#1}, std::__cxx11::basic_string<char, std::char_traits<char>, std::allocator<char> >)::{lambda(tvm::runtime::TVMArgs const&, tvm::runtime::TVMRetValue*)#1}::operator()(tvm::runtime::TVMArgs const, tvm::runtime::TVMRetValue) const [clone .constprop.0]\n  3: tvm::OpRegEntry& tvm::OpRegEntry::set_attr<tvm::runtime::TVMArgValue>(std::__cxx11::basic_string<char, std::char_traits<char>, std::allocator<char> > const&, tvm::runtime::TVMArgValue const&, int) [clone .isra.0]\n  2: tvm::OpRegEntry::UpdateAttr(tvm::runtime::String const&, tvm::runtime::TVMRetValue, int)\n  1: tvm::AttrRegistry<tvm::OpRegEntry, tvm::Op>::UpdateAttr(tvm::runtime::String const&, tvm::Op const&, tvm::runtime::TVMRetValue, int)\n  0: _ZN3tvm7runtime6detail8LogFatalD2Ev.\n  File \"/home/ryguan/tvm/src/ir/../node/attr_registry.h\", line 111\nTVMError: \n---------------------------------------------------------------\nAn error occurred during the execution of TVM.\nFor more information, please see: https://tvm.apache.org/docs/errors.html\n---------------------------------------------------------------\n  Check failed: (p.second != plevel) is false: Attribute TCallEffectKind of tir.rylog is already registered with same plevel=10",
          "output_type": "error",
          "traceback": [
            "\u001b[0;31m---------------------------------------------------------------------------\u001b[0m",
            "\u001b[0;31mTVMError\u001b[0m                                  Traceback (most recent call last)",
            "Cell \u001b[0;32mIn[10], line 17\u001b[0m\n\u001b[1;32m     13\u001b[0m         \u001b[39mreturn\u001b[39;00m op\n\u001b[1;32m     16\u001b[0m \u001b[39m# new op registration is triggered by registering an attribute of the op\u001b[39;00m\n\u001b[0;32m---> 17\u001b[0m register_op_attr(\u001b[39m\"\u001b[39;49m\u001b[39mtir.rylog\u001b[39;49m\u001b[39m\"\u001b[39;49m, \u001b[39m\"\u001b[39;49m\u001b[39mTCallEffectKind\u001b[39;49m\u001b[39m\"\u001b[39;49m, tvm\u001b[39m.\u001b[39;49mtir\u001b[39m.\u001b[39;49mCallEffectKind\u001b[39m.\u001b[39;49mPure)\n\u001b[1;32m     18\u001b[0m register_intrin_lowering(\u001b[39m\"\u001b[39m\u001b[39mtir.rylog\u001b[39m\u001b[39m\"\u001b[39m, target\u001b[39m=\u001b[39m\u001b[39m\"\u001b[39m\u001b[39mcuda\u001b[39m\u001b[39m\"\u001b[39m, f\u001b[39m=\u001b[39mry_cuda_mylog_rule, level\u001b[39m=\u001b[39m\u001b[39m99\u001b[39m)\n\u001b[1;32m     20\u001b[0m n \u001b[39m=\u001b[39m te\u001b[39m.\u001b[39mvar(\u001b[39m\"\u001b[39m\u001b[39mn\u001b[39m\u001b[39m\"\u001b[39m)\n",
            "File \u001b[0;32m~/.local/lib/python3.8/site-packages/tvm-0.12.dev176+g18b7dc1dd-py3.8-linux-x86_64.egg/tvm/ir/op.py:244\u001b[0m, in \u001b[0;36mregister_op_attr\u001b[0;34m(op_name, attr_key, value, level)\u001b[0m\n\u001b[1;32m    241\u001b[0m     _ffi_api\u001b[39m.\u001b[39mRegisterOpAttr(op_name, attr_key, v, level)\n\u001b[1;32m    242\u001b[0m     \u001b[39mreturn\u001b[39;00m v\n\u001b[0;32m--> 244\u001b[0m \u001b[39mreturn\u001b[39;00m _register(value) \u001b[39mif\u001b[39;00m value \u001b[39mis\u001b[39;00m \u001b[39mnot\u001b[39;00m \u001b[39mNone\u001b[39;00m \u001b[39melse\u001b[39;00m _register\n",
            "File \u001b[0;32m~/.local/lib/python3.8/site-packages/tvm-0.12.dev176+g18b7dc1dd-py3.8-linux-x86_64.egg/tvm/ir/op.py:241\u001b[0m, in \u001b[0;36mregister_op_attr.<locals>._register\u001b[0;34m(v)\u001b[0m\n\u001b[1;32m    239\u001b[0m \u001b[39mdef\u001b[39;00m \u001b[39m_register\u001b[39m(v):\n\u001b[1;32m    240\u001b[0m     \u001b[39m\"\"\"internal register function\"\"\"\u001b[39;00m\n\u001b[0;32m--> 241\u001b[0m     _ffi_api\u001b[39m.\u001b[39;49mRegisterOpAttr(op_name, attr_key, v, level)\n\u001b[1;32m    242\u001b[0m     \u001b[39mreturn\u001b[39;00m v\n",
            "File \u001b[0;32m~/.local/lib/python3.8/site-packages/tvm-0.12.dev176+g18b7dc1dd-py3.8-linux-x86_64.egg/tvm/_ffi/_ctypes/packed_func.py:237\u001b[0m, in \u001b[0;36mPackedFuncBase.__call__\u001b[0;34m(self, *args)\u001b[0m\n\u001b[1;32m    225\u001b[0m ret_tcode \u001b[39m=\u001b[39m ctypes\u001b[39m.\u001b[39mc_int()\n\u001b[1;32m    226\u001b[0m \u001b[39mif\u001b[39;00m (\n\u001b[1;32m    227\u001b[0m     _LIB\u001b[39m.\u001b[39mTVMFuncCall(\n\u001b[1;32m    228\u001b[0m         \u001b[39mself\u001b[39m\u001b[39m.\u001b[39mhandle,\n\u001b[0;32m   (...)\u001b[0m\n\u001b[1;32m    235\u001b[0m     \u001b[39m!=\u001b[39m \u001b[39m0\u001b[39m\n\u001b[1;32m    236\u001b[0m ):\n\u001b[0;32m--> 237\u001b[0m     \u001b[39mraise\u001b[39;00m get_last_ffi_error()\n\u001b[1;32m    238\u001b[0m _ \u001b[39m=\u001b[39m temp_args\n\u001b[1;32m    239\u001b[0m _ \u001b[39m=\u001b[39m args\n",
            "\u001b[0;31mTVMError\u001b[0m: Traceback (most recent call last):\n  6: TVMFuncCall\n  5: _ZN3tvm7runtime13Packed\n  4: tvm::runtime::TypedPackedFunc<void (tvm::runtime::String, tvm::runtime::String, tvm::runtime::TVMArgValue, int)>::AssignTypedLambda<tvm::__mk_TVM12::{lambda(tvm::runtime::String, tvm::runtime::String, tvm::runtime::TVMArgValue, int)#1}>(tvm::__mk_TVM12::{lambda(tvm::runtime::String, tvm::runtime::String, tvm::runtime::TVMArgValue, int)#1}, std::__cxx11::basic_string<char, std::char_traits<char>, std::allocator<char> >)::{lambda(tvm::runtime::TVMArgs const&, tvm::runtime::TVMRetValue*)#1}::operator()(tvm::runtime::TVMArgs const, tvm::runtime::TVMRetValue) const [clone .constprop.0]\n  3: tvm::OpRegEntry& tvm::OpRegEntry::set_attr<tvm::runtime::TVMArgValue>(std::__cxx11::basic_string<char, std::char_traits<char>, std::allocator<char> > const&, tvm::runtime::TVMArgValue const&, int) [clone .isra.0]\n  2: tvm::OpRegEntry::UpdateAttr(tvm::runtime::String const&, tvm::runtime::TVMRetValue, int)\n  1: tvm::AttrRegistry<tvm::OpRegEntry, tvm::Op>::UpdateAttr(tvm::runtime::String const&, tvm::Op const&, tvm::runtime::TVMRetValue, int)\n  0: _ZN3tvm7runtime6detail8LogFatalD2Ev.\n  File \"/home/ryguan/tvm/src/ir/../node/attr_registry.h\", line 111\nTVMError: \n---------------------------------------------------------------\nAn error occurred during the execution of TVM.\nFor more information, please see: https://tvm.apache.org/docs/errors.html\n---------------------------------------------------------------\n  Check failed: (p.second != plevel) is false: Attribute TCallEffectKind of tir.rylog is already registered with same plevel=10"
          ]
        }
      ],
      "source": [
        "def rylog(x):\n",
        "    \"\"\"customized log intrinsic function\"\"\"\n",
        "    return tvm.tir.call_intrin(x.dtype, \"tir.rylog\", x)\n",
        "\n",
        "\n",
        "def ry_cuda_mylog_rule(op):\n",
        "    \"\"\"CUDA lowering rule for log\"\"\"\n",
        "    if op.dtype == \"float32\":\n",
        "        return tvm.tir.call_pure_extern(\"float32\", \"logf\", op.args[0])\n",
        "    elif op.dtype == \"float64\":\n",
        "        return tvm.tir.call_pure_extern(\"float64\", \"log\", op.args[0])\n",
        "    else:\n",
        "        return op\n",
        "\n",
        "\n",
        "# new op registration is triggered by registering an attribute of the op\n",
        "register_op_attr(\"tir.rylog\", \"TCallEffectKind\", tvm.tir.CallEffectKind.Pure)\n",
        "register_intrin_lowering(\"tir.rylog\", target=\"cuda\", f=ry_cuda_mylog_rule, level=99)\n",
        "\n",
        "n = te.var(\"n\")\n",
        "A = te.placeholder((n,), name=\"A\")\n",
        "B = te.compute(A.shape, lambda i: rylog(A[i]), name=\"B\")\n",
        "s = te.create_schedule(B.op)\n",
        "num_thread = 64\n",
        "bx, tx = s[B].split(B.op.axis[0], factor=num_thread)\n",
        "s[B].bind(bx, te.thread_axis(\"blockIdx.x\"))\n",
        "s[B].bind(tx, te.thread_axis(\"threadIdx.x\"))\n",
        "fcuda = tvm.build(s, [A, B], \"cuda\", name=\"mylog\")\n",
        "print(fcuda.imported_modules[0].get_source())"
      ]
    },
    {
      "cell_type": "markdown",
      "metadata": {},
      "source": [
        "## Summary\n",
        "- TVM can call extern target dependent math function.\n",
        "- Use intrinsic to defined a unified interface for the functions.\n",
        "- For more intrinsics available in tvm, take a look at :any:`tvm.tir`\n",
        "- You can customize the intrinsic behavior by defining your own rules.\n",
        "\n",
        "\n"
      ]
    }
  ],
  "metadata": {
    "kernelspec": {
      "display_name": "tvm-build-binding",
      "language": "python",
      "name": "python3"
    },
    "language_info": {
      "codemirror_mode": {
        "name": "ipython",
        "version": 3
      },
      "file_extension": ".py",
      "mimetype": "text/x-python",
      "name": "python",
      "nbconvert_exporter": "python",
      "pygments_lexer": "ipython3",
      "version": "3.8.16"
    },
    "vscode": {
      "interpreter": {
        "hash": "400f399043f899df7d546bcb6063b1538c013427ed509bbd25e6c99d0cce4f96"
      }
    }
  },
  "nbformat": 4,
  "nbformat_minor": 0
}
