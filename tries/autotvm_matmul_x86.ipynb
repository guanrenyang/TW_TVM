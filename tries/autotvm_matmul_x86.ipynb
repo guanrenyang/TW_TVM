{
  "cells": [
    {
      "cell_type": "code",
      "execution_count": 1,
      "metadata": {
        "collapsed": false
      },
      "outputs": [
        {
          "name": "stdout",
          "output_type": "stream",
          "text": [
            "env: LD_LIBRARY_PATH=/usr/local/cuda/lib\n",
            "env: PATH=/usr/local/cuda/bin:/usr/bin\n"
          ]
        }
      ],
      "source": [
        "%env LD_LIBRARY_PATH=/usr/local/cuda/lib\n",
        "%env PATH=/usr/local/cuda/bin:/usr/bin"
      ]
    },
    {
      "cell_type": "markdown",
      "metadata": {},
      "source": [
        "\n",
        "\n",
        "# Optimizing Operators with Schedule Templates and AutoTVM\n",
        "**Authors**:\n",
        "[Lianmin Zheng](https://github.com/merrymercy),\n",
        "[Chris Hoge](https://github.com/hogepodge)\n",
        "\n",
        "In this tutorial, we show how the TVM Tensor Expression (TE) language\n",
        "can be used to write schedule templates that can be searched by AutoTVM to\n",
        "find the optimal schedule. This process is called Auto-Tuning, which helps\n",
        "automate the process of optimizing tensor computation.\n",
        "\n",
        "This tutorial builds on the previous :doc:`tutorial on how to write a matrix\n",
        "multiplication using TE <tensor_expr_get_started>`.\n",
        "\n",
        "There are two steps in auto-tuning.\n",
        "\n",
        "- The first step is defining a search space.\n",
        "- The second step is running a search algorithm to explore through this space.\n",
        "\n",
        "In this tutorial, you can learn how to perform these two steps in TVM. The whole\n",
        "workflow is illustrated by a matrix multiplication example.\n",
        "\n",
        "<div class=\"alert alert-info\"><h4>Note</h4><p>Note that this tutorial will not run on Windows or recent versions of macOS.\n",
        "  To get it to run, you will need to wrap the body of this tutorial in a\n",
        "  :code:`if __name__ == \"__main__\":` block.</p></div>\n"
      ]
    },
    {
      "cell_type": "markdown",
      "metadata": {},
      "source": [
        "## Install dependencies\n",
        "To use autotvm package in TVM, we need to install some extra dependencies.\n",
        "\n",
        "```bash\n",
        "pip3 install --user psutil xgboost cloudpickle\n",
        "```\n",
        "To make TVM run faster in tuning, it is recommended to use cython as FFI of\n",
        "TVM. In the root directory of TVM, execute:\n",
        "\n",
        "```bash\n",
        "pip3 install --user cython\n",
        "sudo make cython3\n",
        "```\n",
        "Now return to python code. Begin by importing the required packages.\n",
        "\n"
      ]
    },
    {
      "cell_type": "code",
      "execution_count": 2,
      "metadata": {
        "collapsed": false
      },
      "outputs": [],
      "source": [
        "import logging\n",
        "import sys\n",
        "\n",
        "import numpy as np\n",
        "import tvm\n",
        "from tvm import te\n",
        "import tvm.testing\n",
        "\n",
        "# the module is called `autotvm`\n",
        "from tvm import autotvm"
      ]
    },
    {
      "cell_type": "markdown",
      "metadata": {},
      "source": [
        "## Basic Matrix Multiplication with TE\n",
        "Recall the basic implementation of matrix multiplication using TE. We write\n",
        "it down here with a few changes. We will wrap the multiplication in a python\n",
        "function definition. For simplicity, we will focus our attention on a split\n",
        "optimization, using a fixed value that defines the block size of the\n",
        "reordering.\n",
        "\n"
      ]
    },
    {
      "cell_type": "code",
      "execution_count": 3,
      "metadata": {
        "collapsed": false
      },
      "outputs": [],
      "source": [
        "def matmul_basic(N, L, M, dtype):\n",
        "\n",
        "    A = te.placeholder((N, L), name=\"A\", dtype=dtype)\n",
        "    B = te.placeholder((L, M), name=\"B\", dtype=dtype)\n",
        "\n",
        "    k = te.reduce_axis((0, L), name=\"k\")\n",
        "    C = te.compute((N, M), lambda i, j: te.sum(A[i, k] * B[k, j], axis=k), name=\"C\")\n",
        "    s = te.create_schedule(C.op)\n",
        "\n",
        "    # schedule\n",
        "    y, x = s[C].op.axis\n",
        "    k = s[C].op.reduce_axis[0]\n",
        "\n",
        "    yo, yi = s[C].split(y, 8)\n",
        "    xo, xi = s[C].split(x, 8)\n",
        "\n",
        "    s[C].reorder(yo, xo, k, yi, xi)\n",
        "\n",
        "    return s, [A, B, C]"
      ]
    },
    {
      "cell_type": "markdown",
      "metadata": {},
      "source": [
        "## Matrix Multiplication with AutoTVM\n",
        "In the previous schedule code, we use a constant \"8\" as the tiling factor.\n",
        "However, it might not be the best one because the best tiling factor depends\n",
        "on real hardware environment and input shape.\n",
        "\n",
        "If you want the schedule code to be portable across a wider range of input\n",
        "shapes and target hardware, it is better to define a set of candidate values\n",
        "and pick the best one according to the measurement results on target\n",
        "hardware.\n",
        "\n",
        "In autotvm, we can define a tunable parameter, or a \"knob\" for such kind of\n",
        "value.\n",
        "\n"
      ]
    },
    {
      "cell_type": "markdown",
      "metadata": {},
      "source": [
        "## A Basic Matrix Multiplication Template\n",
        "We begin with an example of how to create a tunable parameter set for the\n",
        "block size of the `split` scheduling operation.\n",
        "\n"
      ]
    },
    {
      "cell_type": "code",
      "execution_count": 4,
      "metadata": {
        "collapsed": false
      },
      "outputs": [],
      "source": [
        "# Matmul V1: List candidate values\n",
        "@autotvm.template(\"tutorial/matmul_v1\")  # 1. use a decorator\n",
        "def matmul_v1(N, L, M, dtype):\n",
        "    A = te.placeholder((N, L), name=\"A\", dtype=dtype)\n",
        "    B = te.placeholder((L, M), name=\"B\", dtype=dtype)\n",
        "\n",
        "    k = te.reduce_axis((0, L), name=\"k\")\n",
        "    C = te.compute((N, M), lambda i, j: te.sum(A[i, k] * B[k, j], axis=k), name=\"C\")\n",
        "    s = te.create_schedule(C.op)\n",
        "\n",
        "    # schedule\n",
        "    y, x = s[C].op.axis\n",
        "    k = s[C].op.reduce_axis[0]\n",
        "\n",
        "    # 2. get the config object\n",
        "    cfg = autotvm.get_config()\n",
        "\n",
        "    # 3. define search space\n",
        "    cfg.define_knob(\"tile_y\", [1, 2, 4, 8, 16])\n",
        "    cfg.define_knob(\"tile_x\", [1, 2, 4, 8, 16])\n",
        "\n",
        "    # 4. schedule according to config\n",
        "    yo, yi = s[C].split(y, cfg[\"tile_y\"].val)\n",
        "    xo, xi = s[C].split(x, cfg[\"tile_x\"].val)\n",
        "\n",
        "    s[C].reorder(yo, xo, k, yi, xi)\n",
        "\n",
        "    return s, [A, B, C]"
      ]
    },
    {
      "cell_type": "markdown",
      "metadata": {},
      "source": [
        "Here we make four modifications to the previous schedule code and get a\n",
        "tunable \"template\". We can explain the modifications one by one.\n",
        "\n",
        "1. Use a decorator to mark this function as a simple template.\n",
        "2. Get a config object: You can regard this :code:`cfg` as an argument of\n",
        "   this function but we obtain it in a different way. With this argument, this\n",
        "   function is no longer a deterministic schedule. Instead, we can pass\n",
        "   different configurations to this function and get different schedules. A\n",
        "   function that uses a configuration object like this is called a \"template\".\n",
        "\n",
        "   To make the template function more compact, we can do two things to define\n",
        "   the parameter search space within a single function.\n",
        "\n",
        "   1. Define a search space across a set values. This is done by making\n",
        "      :code:`cfg` a :any:`ConfigSpace` object. It will collect all of the\n",
        "      tunable knobs in this function and build a search space from it.\n",
        "   2. Schedule according to an entity in this space. This is done by making\n",
        "      :code:`cfg` a :any:`ConfigEntity` object. When it is a\n",
        "      :any:`ConfigEntity`, it will ignore all space definition API (namely,\n",
        "      :code:`cfg.define_XXXXX(...)`). Instead, it will store deterministic\n",
        "      values for all tunable knobs, and we schedule according to these values.\n",
        "\n",
        "   During auto-tuning, we will first call this template with a\n",
        "   :any:`ConfigSpace` object to build the search space. Then we call this\n",
        "   template with different :any:`ConfigEntity` in the built space to get\n",
        "   different schedules. Finally we will measure the code generated by\n",
        "   different schedules and pick the best one.\n",
        "\n",
        "3. Define two tunable knobs. The first one is :code:`tile_y` with 5 possible\n",
        "   values. The second one is :code:`tile_x` with a same list of possible values.\n",
        "   These two knobs are independent, so they span a search space with size 25 =\n",
        "   5x5.\n",
        "4. The configuration knobs are passed to the :code:`split` schedule\n",
        "   operation, allowing us to schedule according to the 5x5 deterministic values\n",
        "   we previously defined in :code:`cfg`.\n",
        "\n"
      ]
    },
    {
      "cell_type": "markdown",
      "metadata": {},
      "source": [
        "## A Matrix Multiplication Template with the Advanced Parameter API\n",
        "In the previous template, we manually listed all of the possible values for a\n",
        "knob. This is the lowest level API to define the space, and gives an explicit\n",
        "enumeration of the parameter space to search. However, we also provide\n",
        "another set of APIs that can make the definition of the search space easier\n",
        "and smarter. Where possible, we recommend you use this higher-level API\n",
        "\n",
        "In the following example, we use :any:`ConfigSpace.define_split` to define a\n",
        "split knob. It will enumerate all the possible ways to split an axis and\n",
        "construct the space.\n",
        "\n",
        "We also have :any:`ConfigSpace.define_reorder` for reorder knob and\n",
        ":any:`ConfigSpace.define_annotate` for annotation like unroll, vectorization,\n",
        "thread binding. When the high level API cannot meet your requirements, you\n",
        "can always fall back to using the low level API.\n",
        "\n"
      ]
    },
    {
      "cell_type": "code",
      "execution_count": 5,
      "metadata": {
        "collapsed": false
      },
      "outputs": [],
      "source": [
        "@autotvm.template(\"tutorial/matmul\")\n",
        "def matmul(N, L, M, dtype):\n",
        "    A = te.placeholder((N, L), name=\"A\", dtype=dtype)\n",
        "    B = te.placeholder((L, M), name=\"B\", dtype=dtype)\n",
        "\n",
        "    k = te.reduce_axis((0, L), name=\"k\")\n",
        "    C = te.compute((N, M), lambda i, j: te.sum(A[i, k] * B[k, j], axis=k), name=\"C\")\n",
        "    s = te.create_schedule(C.op)\n",
        "\n",
        "    # schedule\n",
        "    y, x = s[C].op.axis\n",
        "    k = s[C].op.reduce_axis[0]\n",
        "\n",
        "    ##### define space begin #####\n",
        "    cfg = autotvm.get_config()\n",
        "    cfg.define_split(\"tile_y\", y, num_outputs=2)\n",
        "    cfg.define_split(\"tile_x\", x, num_outputs=2)\n",
        "    ##### define space end #####\n",
        "\n",
        "    # schedule according to config\n",
        "    yo, yi = cfg[\"tile_y\"].apply(s, C, y)\n",
        "    xo, xi = cfg[\"tile_x\"].apply(s, C, x)\n",
        "\n",
        "    s[C].reorder(yo, xo, k, yi, xi)\n",
        "\n",
        "    return s, [A, B, C]"
      ]
    },
    {
      "cell_type": "markdown",
      "metadata": {},
      "source": [
        "<div class=\"alert alert-info\"><h4>More Explanation on :code:`cfg.define_split`</h4><p></p></div> In this template, :code:`cfg.define_split(\"tile_y\", y, num_outputs=2)` will\n",
        " enumerate all possible combinations that can split axis y into two axes with\n",
        " factors of the length of y. For example, if the length of y is 32 and we\n",
        " want to split it into two axes using factors of 32, then there are 6\n",
        " possible values for (length of outer axis, length of inner axis) pair,\n",
        " namely (32, 1), (16, 2), (8, 4), (4, 8), (2, 16) or (1, 32). These are all 6\n",
        " possible values of `tile_y`.\n",
        "\n",
        " During scheduling, :code:`cfg[\"tile_y\"]` is a :code:`SplitEntity` object.\n",
        " We stores the lengths of outer axes and inner axes in\n",
        " :code:`cfg['tile_y'].size` (a tuple with two elements).  In this template,\n",
        " we apply it by using :code:`yo, yi = cfg['tile_y'].apply(s, C, y)`.\n",
        " Actually, this is equivalent to :code:`yo, yi = s[C].split(y,\n",
        " cfg[\"tile_y\"].size[1])` or  :code:`yo, yi = s[C].split(y,\n",
        " nparts=cfg['tile_y\"].size[0])`\n",
        "\n",
        " The advantage of using cfg.apply API is that it makes multi-level splits\n",
        " (that is, when num_outputs >= 3) easier.\n",
        "\n"
      ]
    },
    {
      "cell_type": "markdown",
      "metadata": {},
      "source": [
        "## Step 2: Use AutoTVM to Optimize the Matrix Multiplication\n",
        "In Step 1, we wrote a matrix multiplication template that allowed us to\n",
        "parameterize the block size used in the `split` schedule. We can now conduct\n",
        "a search over this parameter space. The next step is to pick a tuner to guide\n",
        "the exploration of this space.\n",
        "\n",
        "### Auto-tuners in TVM\n",
        "The job for a tuner can be described by following pseudo code\n",
        "\n",
        "```c\n",
        "ct = 0\n",
        "while ct < max_number_of_trials:\n",
        "    propose a batch of configs\n",
        "    measure this batch of configs on real hardware and get results\n",
        "    ct += batch_size\n",
        "```\n",
        "When proposing the next batch of configs, the tuner can take different\n",
        "strategies. Some of the tuner strategies provided by TVM include:\n",
        "\n",
        "* :any:`tvm.autotvm.tuner.RandomTuner`: Enumerate the space in a random order\n",
        "* :any:`tvm.autotvm.tuner.GridSearchTuner`: Enumerate the space in a grid search order\n",
        "* :any:`tvm.autotvm.tuner.GATuner`: Using genetic algorithm to search through the space\n",
        "* :any:`tvm.autotvm.tuner.XGBTuner`: Uses a model based method. Train a XGBoost model to\n",
        "  predict the speed of lowered IR and pick the next batch according to the\n",
        "  prediction.\n",
        "\n",
        "You can choose the tuner according to the size of your space, your time\n",
        "budget and other factors.  For example, if your space is very small (less\n",
        "than 1000), a grid-search tuner or a random tuner is good enough. If your\n",
        "space is at the level of 10^9 (this is the space size of a conv2d operator on\n",
        "CUDA GPU), XGBoostTuner can explore more efficiently and find better configs.\n",
        "\n"
      ]
    },
    {
      "cell_type": "markdown",
      "metadata": {},
      "source": [
        "### Begin tuning\n",
        "Here we continue our matrix multiplication example. First we create a tuning\n",
        "task. We can also inspect the initialized search space. In this case, for a\n",
        "512x512 square matrix multiplication, the space size is 10x10=100 Note that\n",
        "the task and search space are independent of the tuner picked.\n",
        "\n"
      ]
    },
    {
      "cell_type": "code",
      "execution_count": 6,
      "metadata": {
        "collapsed": false
      },
      "outputs": [
        {
          "name": "stdout",
          "output_type": "stream",
          "text": [
            "ConfigSpace (len=100, range_length=100, space_map=\n",
            "   0 tile_y: Split(policy=factors, product=512, num_outputs=2) len=10\n",
            "   1 tile_x: Split(policy=factors, product=512, num_outputs=2) len=10\n",
            ")\n"
          ]
        }
      ],
      "source": [
        "N, L, M = 512, 512, 512\n",
        "task = autotvm.task.create(\"tutorial/matmul\", args=(N, L, M, \"float32\"), target=\"llvm\")\n",
        "print(task.config_space)"
      ]
    },
    {
      "cell_type": "markdown",
      "metadata": {},
      "source": [
        "Then we need to define how to measure the generated code and pick a tuner.\n",
        "Since our space is small, a random tuner is just okay.\n",
        "\n",
        "We only make 10 trials in this tutorial for demonstration. In practice, you\n",
        "can do more trials according to your time budget. We will log the tuning\n",
        "results into a log file. This file can be used to choose the best\n",
        "configuration discovered by the tuner later.\n",
        "\n"
      ]
    },
    {
      "cell_type": "code",
      "execution_count": 7,
      "metadata": {
        "collapsed": false
      },
      "outputs": [],
      "source": [
        "# logging config (for printing tuning log to the screen)\n",
        "logging.getLogger(\"autotvm\").setLevel(logging.DEBUG)\n",
        "logging.getLogger(\"autotvm\").addHandler(logging.StreamHandler(sys.stdout))"
      ]
    },
    {
      "cell_type": "markdown",
      "metadata": {},
      "source": [
        "There are two steps for measuring a config: build and run. By default, we use\n",
        "all CPU cores to compile program. We then measure them sequentially. To help\n",
        "reduce variance, we take 5 measurements and average them.\n",
        "\n"
      ]
    },
    {
      "cell_type": "code",
      "execution_count": 8,
      "metadata": {
        "collapsed": false
      },
      "outputs": [
        {
          "name": "stdout",
          "output_type": "stream",
          "text": [
            "waiting for device...\n",
            "device available\n",
            "Get devices for measurement successfully!\n",
            "No: 1\tGFLOPS: 0.00/0.00\tresult: Traceback (most recent call last):\n",
            "  File \"/home/ryguan/.local/lib/python3.8/site-packages/tvm-0.12.dev176+g18b7dc1dd-py3.8-linux-x86_64.egg/tvm/autotvm/measure/measure_methods.py\", line 601, in __call__\n",
            "    func.export_library(filename, self.build_func)\n",
            "  File \"/home/ryguan/.local/lib/python3.8/site-packages/tvm-0.12.dev176+g18b7dc1dd-py3.8-linux-x86_64.egg/tvm/runtime/module.py\", line 543, in export_library\n",
            "    return fcompile(file_name, files, **kwargs)\n",
            "  File \"/home/ryguan/.local/lib/python3.8/site-packages/tvm-0.12.dev176+g18b7dc1dd-py3.8-linux-x86_64.egg/tvm/contrib/tar.py\", line 52, in tar\n",
            "    proc = subprocess.Popen(cmd, stdout=subprocess.PIPE, stderr=subprocess.STDOUT)\n",
            "  File \"/home/ryguan/miniconda3/envs/tvm-build-binding/lib/python3.8/subprocess.py\", line 858, in __init__\n",
            "    self._execute_child(args, executable, preexec_fn, close_fds,\n",
            "  File \"/home/ryguan/miniconda3/envs/tvm-build-binding/lib/python3.8/subprocess.py\", line 1704, in _execute_child\n",
            "    raise child_exception_type(errno_num, err_msg, err_filename)\n",
            "FileNotFoundError: [Errno 2] No such file or directory: 'tar'\n",
            "\n",
            "('Traceback (most recent call last):\\n  File \"/home/ryguan/.local/lib/python3.8/site-packages/tvm-0.12.dev176+g18b7dc1dd-py3.8-linux-x86_64.egg/tvm/autotvm/measure/measure_methods.py\", line 601, in __call__\\n    func.export_library(filename, self.build_func)\\n  File \"/home/ryguan/.local/lib/python3.8/site-packages/tvm-0.12.dev176+g18b7dc1dd-py3.8-linux-x86_64.egg/tvm/runtime/module.py\", line 543, in export_library\\n    return fcompile(file_name, files, **kwargs)\\n  File \"/home/ryguan/.local/lib/python3.8/site-packages/tvm-0.12.dev176+g18b7dc1dd-py3.8-linux-x86_64.egg/tvm/contrib/tar.py\", line 52, in tar\\n    proc = subprocess.Popen(cmd, stdout=subprocess.PIPE, stderr=subprocess.STDOUT)\\n  File \"/home/ryguan/miniconda3/envs/tvm-build-binding/lib/python3.8/subprocess.py\", line 858, in __init__\\n    self._execute_child(args, executable, preexec_fn, close_fds,\\n  File \"/home/ryguan/miniconda3/envs/tvm-build-binding/lib/python3.8/subprocess.py\", line 1704, in _execute_child\\n    raise child_exception_type(errno_num, err_msg, err_filename)\\nFileNotFoundError: [Errno 2] No such file or directory: \\'tar\\'\\n', FileNotFoundError(2, 'No such file or directory'))\t[('tile_y', [-1, 8]), ('tile_x', [-1, 128])],None,73\n",
            "No: 2\tGFLOPS: 0.00/0.00\tresult: Traceback (most recent call last):\n",
            "  File \"/home/ryguan/.local/lib/python3.8/site-packages/tvm-0.12.dev176+g18b7dc1dd-py3.8-linux-x86_64.egg/tvm/autotvm/measure/measure_methods.py\", line 601, in __call__\n",
            "    func.export_library(filename, self.build_func)\n",
            "  File \"/home/ryguan/.local/lib/python3.8/site-packages/tvm-0.12.dev176+g18b7dc1dd-py3.8-linux-x86_64.egg/tvm/runtime/module.py\", line 543, in export_library\n",
            "    return fcompile(file_name, files, **kwargs)\n",
            "  File \"/home/ryguan/.local/lib/python3.8/site-packages/tvm-0.12.dev176+g18b7dc1dd-py3.8-linux-x86_64.egg/tvm/contrib/tar.py\", line 52, in tar\n",
            "    proc = subprocess.Popen(cmd, stdout=subprocess.PIPE, stderr=subprocess.STDOUT)\n",
            "  File \"/home/ryguan/miniconda3/envs/tvm-build-binding/lib/python3.8/subprocess.py\", line 858, in __init__\n",
            "    self._execute_child(args, executable, preexec_fn, close_fds,\n",
            "  File \"/home/ryguan/miniconda3/envs/tvm-build-binding/lib/python3.8/subprocess.py\", line 1704, in _execute_child\n",
            "    raise child_exception_type(errno_num, err_msg, err_filename)\n",
            "FileNotFoundError: [Errno 2] No such file or directory: 'tar'\n",
            "\n",
            "('Traceback (most recent call last):\\n  File \"/home/ryguan/.local/lib/python3.8/site-packages/tvm-0.12.dev176+g18b7dc1dd-py3.8-linux-x86_64.egg/tvm/autotvm/measure/measure_methods.py\", line 601, in __call__\\n    func.export_library(filename, self.build_func)\\n  File \"/home/ryguan/.local/lib/python3.8/site-packages/tvm-0.12.dev176+g18b7dc1dd-py3.8-linux-x86_64.egg/tvm/runtime/module.py\", line 543, in export_library\\n    return fcompile(file_name, files, **kwargs)\\n  File \"/home/ryguan/.local/lib/python3.8/site-packages/tvm-0.12.dev176+g18b7dc1dd-py3.8-linux-x86_64.egg/tvm/contrib/tar.py\", line 52, in tar\\n    proc = subprocess.Popen(cmd, stdout=subprocess.PIPE, stderr=subprocess.STDOUT)\\n  File \"/home/ryguan/miniconda3/envs/tvm-build-binding/lib/python3.8/subprocess.py\", line 858, in __init__\\n    self._execute_child(args, executable, preexec_fn, close_fds,\\n  File \"/home/ryguan/miniconda3/envs/tvm-build-binding/lib/python3.8/subprocess.py\", line 1704, in _execute_child\\n    raise child_exception_type(errno_num, err_msg, err_filename)\\nFileNotFoundError: [Errno 2] No such file or directory: \\'tar\\'\\n', FileNotFoundError(2, 'No such file or directory'))\t[('tile_y', [-1, 64]), ('tile_x', [-1, 4])],None,26\n",
            "No: 3\tGFLOPS: 0.00/0.00\tresult: Traceback (most recent call last):\n",
            "  File \"/home/ryguan/.local/lib/python3.8/site-packages/tvm-0.12.dev176+g18b7dc1dd-py3.8-linux-x86_64.egg/tvm/autotvm/measure/measure_methods.py\", line 601, in __call__\n",
            "    func.export_library(filename, self.build_func)\n",
            "  File \"/home/ryguan/.local/lib/python3.8/site-packages/tvm-0.12.dev176+g18b7dc1dd-py3.8-linux-x86_64.egg/tvm/runtime/module.py\", line 543, in export_library\n",
            "    return fcompile(file_name, files, **kwargs)\n",
            "  File \"/home/ryguan/.local/lib/python3.8/site-packages/tvm-0.12.dev176+g18b7dc1dd-py3.8-linux-x86_64.egg/tvm/contrib/tar.py\", line 52, in tar\n",
            "    proc = subprocess.Popen(cmd, stdout=subprocess.PIPE, stderr=subprocess.STDOUT)\n",
            "  File \"/home/ryguan/miniconda3/envs/tvm-build-binding/lib/python3.8/subprocess.py\", line 858, in __init__\n",
            "    self._execute_child(args, executable, preexec_fn, close_fds,\n",
            "  File \"/home/ryguan/miniconda3/envs/tvm-build-binding/lib/python3.8/subprocess.py\", line 1704, in _execute_child\n",
            "    raise child_exception_type(errno_num, err_msg, err_filename)\n",
            "FileNotFoundError: [Errno 2] No such file or directory: 'tar'\n",
            "\n",
            "('Traceback (most recent call last):\\n  File \"/home/ryguan/.local/lib/python3.8/site-packages/tvm-0.12.dev176+g18b7dc1dd-py3.8-linux-x86_64.egg/tvm/autotvm/measure/measure_methods.py\", line 601, in __call__\\n    func.export_library(filename, self.build_func)\\n  File \"/home/ryguan/.local/lib/python3.8/site-packages/tvm-0.12.dev176+g18b7dc1dd-py3.8-linux-x86_64.egg/tvm/runtime/module.py\", line 543, in export_library\\n    return fcompile(file_name, files, **kwargs)\\n  File \"/home/ryguan/.local/lib/python3.8/site-packages/tvm-0.12.dev176+g18b7dc1dd-py3.8-linux-x86_64.egg/tvm/contrib/tar.py\", line 52, in tar\\n    proc = subprocess.Popen(cmd, stdout=subprocess.PIPE, stderr=subprocess.STDOUT)\\n  File \"/home/ryguan/miniconda3/envs/tvm-build-binding/lib/python3.8/subprocess.py\", line 858, in __init__\\n    self._execute_child(args, executable, preexec_fn, close_fds,\\n  File \"/home/ryguan/miniconda3/envs/tvm-build-binding/lib/python3.8/subprocess.py\", line 1704, in _execute_child\\n    raise child_exception_type(errno_num, err_msg, err_filename)\\nFileNotFoundError: [Errno 2] No such file or directory: \\'tar\\'\\n', FileNotFoundError(2, 'No such file or directory'))\t[('tile_y', [-1, 128]), ('tile_x', [-1, 32])],None,57\n",
            "No: 4\tGFLOPS: 0.00/0.00\tresult: Traceback (most recent call last):\n",
            "  File \"/home/ryguan/.local/lib/python3.8/site-packages/tvm-0.12.dev176+g18b7dc1dd-py3.8-linux-x86_64.egg/tvm/autotvm/measure/measure_methods.py\", line 601, in __call__\n",
            "    func.export_library(filename, self.build_func)\n",
            "  File \"/home/ryguan/.local/lib/python3.8/site-packages/tvm-0.12.dev176+g18b7dc1dd-py3.8-linux-x86_64.egg/tvm/runtime/module.py\", line 543, in export_library\n",
            "    return fcompile(file_name, files, **kwargs)\n",
            "  File \"/home/ryguan/.local/lib/python3.8/site-packages/tvm-0.12.dev176+g18b7dc1dd-py3.8-linux-x86_64.egg/tvm/contrib/tar.py\", line 52, in tar\n",
            "    proc = subprocess.Popen(cmd, stdout=subprocess.PIPE, stderr=subprocess.STDOUT)\n",
            "  File \"/home/ryguan/miniconda3/envs/tvm-build-binding/lib/python3.8/subprocess.py\", line 858, in __init__\n",
            "    self._execute_child(args, executable, preexec_fn, close_fds,\n",
            "  File \"/home/ryguan/miniconda3/envs/tvm-build-binding/lib/python3.8/subprocess.py\", line 1704, in _execute_child\n",
            "    raise child_exception_type(errno_num, err_msg, err_filename)\n",
            "FileNotFoundError: [Errno 2] No such file or directory: 'tar'\n",
            "\n",
            "('Traceback (most recent call last):\\n  File \"/home/ryguan/.local/lib/python3.8/site-packages/tvm-0.12.dev176+g18b7dc1dd-py3.8-linux-x86_64.egg/tvm/autotvm/measure/measure_methods.py\", line 601, in __call__\\n    func.export_library(filename, self.build_func)\\n  File \"/home/ryguan/.local/lib/python3.8/site-packages/tvm-0.12.dev176+g18b7dc1dd-py3.8-linux-x86_64.egg/tvm/runtime/module.py\", line 543, in export_library\\n    return fcompile(file_name, files, **kwargs)\\n  File \"/home/ryguan/.local/lib/python3.8/site-packages/tvm-0.12.dev176+g18b7dc1dd-py3.8-linux-x86_64.egg/tvm/contrib/tar.py\", line 52, in tar\\n    proc = subprocess.Popen(cmd, stdout=subprocess.PIPE, stderr=subprocess.STDOUT)\\n  File \"/home/ryguan/miniconda3/envs/tvm-build-binding/lib/python3.8/subprocess.py\", line 858, in __init__\\n    self._execute_child(args, executable, preexec_fn, close_fds,\\n  File \"/home/ryguan/miniconda3/envs/tvm-build-binding/lib/python3.8/subprocess.py\", line 1704, in _execute_child\\n    raise child_exception_type(errno_num, err_msg, err_filename)\\nFileNotFoundError: [Errno 2] No such file or directory: \\'tar\\'\\n', FileNotFoundError(2, 'No such file or directory'))\t[('tile_y', [-1, 2]), ('tile_x', [-1, 2])],None,11\n",
            "No: 5\tGFLOPS: 0.00/0.00\tresult: Traceback (most recent call last):\n",
            "  File \"/home/ryguan/.local/lib/python3.8/site-packages/tvm-0.12.dev176+g18b7dc1dd-py3.8-linux-x86_64.egg/tvm/autotvm/measure/measure_methods.py\", line 601, in __call__\n",
            "    func.export_library(filename, self.build_func)\n",
            "  File \"/home/ryguan/.local/lib/python3.8/site-packages/tvm-0.12.dev176+g18b7dc1dd-py3.8-linux-x86_64.egg/tvm/runtime/module.py\", line 543, in export_library\n",
            "    return fcompile(file_name, files, **kwargs)\n",
            "  File \"/home/ryguan/.local/lib/python3.8/site-packages/tvm-0.12.dev176+g18b7dc1dd-py3.8-linux-x86_64.egg/tvm/contrib/tar.py\", line 52, in tar\n",
            "    proc = subprocess.Popen(cmd, stdout=subprocess.PIPE, stderr=subprocess.STDOUT)\n",
            "  File \"/home/ryguan/miniconda3/envs/tvm-build-binding/lib/python3.8/subprocess.py\", line 858, in __init__\n",
            "    self._execute_child(args, executable, preexec_fn, close_fds,\n",
            "  File \"/home/ryguan/miniconda3/envs/tvm-build-binding/lib/python3.8/subprocess.py\", line 1704, in _execute_child\n",
            "    raise child_exception_type(errno_num, err_msg, err_filename)\n",
            "FileNotFoundError: [Errno 2] No such file or directory: 'tar'\n",
            "\n",
            "('Traceback (most recent call last):\\n  File \"/home/ryguan/.local/lib/python3.8/site-packages/tvm-0.12.dev176+g18b7dc1dd-py3.8-linux-x86_64.egg/tvm/autotvm/measure/measure_methods.py\", line 601, in __call__\\n    func.export_library(filename, self.build_func)\\n  File \"/home/ryguan/.local/lib/python3.8/site-packages/tvm-0.12.dev176+g18b7dc1dd-py3.8-linux-x86_64.egg/tvm/runtime/module.py\", line 543, in export_library\\n    return fcompile(file_name, files, **kwargs)\\n  File \"/home/ryguan/.local/lib/python3.8/site-packages/tvm-0.12.dev176+g18b7dc1dd-py3.8-linux-x86_64.egg/tvm/contrib/tar.py\", line 52, in tar\\n    proc = subprocess.Popen(cmd, stdout=subprocess.PIPE, stderr=subprocess.STDOUT)\\n  File \"/home/ryguan/miniconda3/envs/tvm-build-binding/lib/python3.8/subprocess.py\", line 858, in __init__\\n    self._execute_child(args, executable, preexec_fn, close_fds,\\n  File \"/home/ryguan/miniconda3/envs/tvm-build-binding/lib/python3.8/subprocess.py\", line 1704, in _execute_child\\n    raise child_exception_type(errno_num, err_msg, err_filename)\\nFileNotFoundError: [Errno 2] No such file or directory: \\'tar\\'\\n', FileNotFoundError(2, 'No such file or directory'))\t[('tile_y', [-1, 32]), ('tile_x', [-1, 2])],None,15\n",
            "No: 6\tGFLOPS: 0.00/0.00\tresult: Traceback (most recent call last):\n",
            "  File \"/home/ryguan/.local/lib/python3.8/site-packages/tvm-0.12.dev176+g18b7dc1dd-py3.8-linux-x86_64.egg/tvm/autotvm/measure/measure_methods.py\", line 601, in __call__\n",
            "    func.export_library(filename, self.build_func)\n",
            "  File \"/home/ryguan/.local/lib/python3.8/site-packages/tvm-0.12.dev176+g18b7dc1dd-py3.8-linux-x86_64.egg/tvm/runtime/module.py\", line 543, in export_library\n",
            "    return fcompile(file_name, files, **kwargs)\n",
            "  File \"/home/ryguan/.local/lib/python3.8/site-packages/tvm-0.12.dev176+g18b7dc1dd-py3.8-linux-x86_64.egg/tvm/contrib/tar.py\", line 52, in tar\n",
            "    proc = subprocess.Popen(cmd, stdout=subprocess.PIPE, stderr=subprocess.STDOUT)\n",
            "  File \"/home/ryguan/miniconda3/envs/tvm-build-binding/lib/python3.8/subprocess.py\", line 858, in __init__\n",
            "    self._execute_child(args, executable, preexec_fn, close_fds,\n",
            "  File \"/home/ryguan/miniconda3/envs/tvm-build-binding/lib/python3.8/subprocess.py\", line 1704, in _execute_child\n",
            "    raise child_exception_type(errno_num, err_msg, err_filename)\n",
            "FileNotFoundError: [Errno 2] No such file or directory: 'tar'\n",
            "\n",
            "('Traceback (most recent call last):\\n  File \"/home/ryguan/.local/lib/python3.8/site-packages/tvm-0.12.dev176+g18b7dc1dd-py3.8-linux-x86_64.egg/tvm/autotvm/measure/measure_methods.py\", line 601, in __call__\\n    func.export_library(filename, self.build_func)\\n  File \"/home/ryguan/.local/lib/python3.8/site-packages/tvm-0.12.dev176+g18b7dc1dd-py3.8-linux-x86_64.egg/tvm/runtime/module.py\", line 543, in export_library\\n    return fcompile(file_name, files, **kwargs)\\n  File \"/home/ryguan/.local/lib/python3.8/site-packages/tvm-0.12.dev176+g18b7dc1dd-py3.8-linux-x86_64.egg/tvm/contrib/tar.py\", line 52, in tar\\n    proc = subprocess.Popen(cmd, stdout=subprocess.PIPE, stderr=subprocess.STDOUT)\\n  File \"/home/ryguan/miniconda3/envs/tvm-build-binding/lib/python3.8/subprocess.py\", line 858, in __init__\\n    self._execute_child(args, executable, preexec_fn, close_fds,\\n  File \"/home/ryguan/miniconda3/envs/tvm-build-binding/lib/python3.8/subprocess.py\", line 1704, in _execute_child\\n    raise child_exception_type(errno_num, err_msg, err_filename)\\nFileNotFoundError: [Errno 2] No such file or directory: \\'tar\\'\\n', FileNotFoundError(2, 'No such file or directory'))\t[('tile_y', [-1, 128]), ('tile_x', [-1, 2])],None,17\n",
            "No: 7\tGFLOPS: 0.00/0.00\tresult: Traceback (most recent call last):\n",
            "  File \"/home/ryguan/.local/lib/python3.8/site-packages/tvm-0.12.dev176+g18b7dc1dd-py3.8-linux-x86_64.egg/tvm/autotvm/measure/measure_methods.py\", line 601, in __call__\n",
            "    func.export_library(filename, self.build_func)\n",
            "  File \"/home/ryguan/.local/lib/python3.8/site-packages/tvm-0.12.dev176+g18b7dc1dd-py3.8-linux-x86_64.egg/tvm/runtime/module.py\", line 543, in export_library\n",
            "    return fcompile(file_name, files, **kwargs)\n",
            "  File \"/home/ryguan/.local/lib/python3.8/site-packages/tvm-0.12.dev176+g18b7dc1dd-py3.8-linux-x86_64.egg/tvm/contrib/tar.py\", line 52, in tar\n",
            "    proc = subprocess.Popen(cmd, stdout=subprocess.PIPE, stderr=subprocess.STDOUT)\n",
            "  File \"/home/ryguan/miniconda3/envs/tvm-build-binding/lib/python3.8/subprocess.py\", line 858, in __init__\n",
            "    self._execute_child(args, executable, preexec_fn, close_fds,\n",
            "  File \"/home/ryguan/miniconda3/envs/tvm-build-binding/lib/python3.8/subprocess.py\", line 1704, in _execute_child\n",
            "    raise child_exception_type(errno_num, err_msg, err_filename)\n",
            "FileNotFoundError: [Errno 2] No such file or directory: 'tar'\n",
            "\n",
            "('Traceback (most recent call last):\\n  File \"/home/ryguan/.local/lib/python3.8/site-packages/tvm-0.12.dev176+g18b7dc1dd-py3.8-linux-x86_64.egg/tvm/autotvm/measure/measure_methods.py\", line 601, in __call__\\n    func.export_library(filename, self.build_func)\\n  File \"/home/ryguan/.local/lib/python3.8/site-packages/tvm-0.12.dev176+g18b7dc1dd-py3.8-linux-x86_64.egg/tvm/runtime/module.py\", line 543, in export_library\\n    return fcompile(file_name, files, **kwargs)\\n  File \"/home/ryguan/.local/lib/python3.8/site-packages/tvm-0.12.dev176+g18b7dc1dd-py3.8-linux-x86_64.egg/tvm/contrib/tar.py\", line 52, in tar\\n    proc = subprocess.Popen(cmd, stdout=subprocess.PIPE, stderr=subprocess.STDOUT)\\n  File \"/home/ryguan/miniconda3/envs/tvm-build-binding/lib/python3.8/subprocess.py\", line 858, in __init__\\n    self._execute_child(args, executable, preexec_fn, close_fds,\\n  File \"/home/ryguan/miniconda3/envs/tvm-build-binding/lib/python3.8/subprocess.py\", line 1704, in _execute_child\\n    raise child_exception_type(errno_num, err_msg, err_filename)\\nFileNotFoundError: [Errno 2] No such file or directory: \\'tar\\'\\n', FileNotFoundError(2, 'No such file or directory'))\t[('tile_y', [-1, 512]), ('tile_x', [-1, 8])],None,39\n",
            "No: 8\tGFLOPS: 0.00/0.00\tresult: Traceback (most recent call last):\n",
            "  File \"/home/ryguan/.local/lib/python3.8/site-packages/tvm-0.12.dev176+g18b7dc1dd-py3.8-linux-x86_64.egg/tvm/autotvm/measure/measure_methods.py\", line 601, in __call__\n",
            "    func.export_library(filename, self.build_func)\n",
            "  File \"/home/ryguan/.local/lib/python3.8/site-packages/tvm-0.12.dev176+g18b7dc1dd-py3.8-linux-x86_64.egg/tvm/runtime/module.py\", line 543, in export_library\n",
            "    return fcompile(file_name, files, **kwargs)\n",
            "  File \"/home/ryguan/.local/lib/python3.8/site-packages/tvm-0.12.dev176+g18b7dc1dd-py3.8-linux-x86_64.egg/tvm/contrib/tar.py\", line 52, in tar\n",
            "    proc = subprocess.Popen(cmd, stdout=subprocess.PIPE, stderr=subprocess.STDOUT)\n",
            "  File \"/home/ryguan/miniconda3/envs/tvm-build-binding/lib/python3.8/subprocess.py\", line 858, in __init__\n",
            "    self._execute_child(args, executable, preexec_fn, close_fds,\n",
            "  File \"/home/ryguan/miniconda3/envs/tvm-build-binding/lib/python3.8/subprocess.py\", line 1704, in _execute_child\n",
            "    raise child_exception_type(errno_num, err_msg, err_filename)\n",
            "FileNotFoundError: [Errno 2] No such file or directory: 'tar'\n",
            "\n",
            "('Traceback (most recent call last):\\n  File \"/home/ryguan/.local/lib/python3.8/site-packages/tvm-0.12.dev176+g18b7dc1dd-py3.8-linux-x86_64.egg/tvm/autotvm/measure/measure_methods.py\", line 601, in __call__\\n    func.export_library(filename, self.build_func)\\n  File \"/home/ryguan/.local/lib/python3.8/site-packages/tvm-0.12.dev176+g18b7dc1dd-py3.8-linux-x86_64.egg/tvm/runtime/module.py\", line 543, in export_library\\n    return fcompile(file_name, files, **kwargs)\\n  File \"/home/ryguan/.local/lib/python3.8/site-packages/tvm-0.12.dev176+g18b7dc1dd-py3.8-linux-x86_64.egg/tvm/contrib/tar.py\", line 52, in tar\\n    proc = subprocess.Popen(cmd, stdout=subprocess.PIPE, stderr=subprocess.STDOUT)\\n  File \"/home/ryguan/miniconda3/envs/tvm-build-binding/lib/python3.8/subprocess.py\", line 858, in __init__\\n    self._execute_child(args, executable, preexec_fn, close_fds,\\n  File \"/home/ryguan/miniconda3/envs/tvm-build-binding/lib/python3.8/subprocess.py\", line 1704, in _execute_child\\n    raise child_exception_type(errno_num, err_msg, err_filename)\\nFileNotFoundError: [Errno 2] No such file or directory: \\'tar\\'\\n', FileNotFoundError(2, 'No such file or directory'))\t[('tile_y', [-1, 128]), ('tile_x', [-1, 8])],None,37\n",
            "No: 9\tGFLOPS: 0.00/0.00\tresult: Traceback (most recent call last):\n",
            "  File \"/home/ryguan/.local/lib/python3.8/site-packages/tvm-0.12.dev176+g18b7dc1dd-py3.8-linux-x86_64.egg/tvm/autotvm/measure/measure_methods.py\", line 601, in __call__\n",
            "    func.export_library(filename, self.build_func)\n",
            "  File \"/home/ryguan/.local/lib/python3.8/site-packages/tvm-0.12.dev176+g18b7dc1dd-py3.8-linux-x86_64.egg/tvm/runtime/module.py\", line 543, in export_library\n",
            "    return fcompile(file_name, files, **kwargs)\n",
            "  File \"/home/ryguan/.local/lib/python3.8/site-packages/tvm-0.12.dev176+g18b7dc1dd-py3.8-linux-x86_64.egg/tvm/contrib/tar.py\", line 52, in tar\n",
            "    proc = subprocess.Popen(cmd, stdout=subprocess.PIPE, stderr=subprocess.STDOUT)\n",
            "  File \"/home/ryguan/miniconda3/envs/tvm-build-binding/lib/python3.8/subprocess.py\", line 858, in __init__\n",
            "    self._execute_child(args, executable, preexec_fn, close_fds,\n",
            "  File \"/home/ryguan/miniconda3/envs/tvm-build-binding/lib/python3.8/subprocess.py\", line 1704, in _execute_child\n",
            "    raise child_exception_type(errno_num, err_msg, err_filename)\n",
            "FileNotFoundError: [Errno 2] No such file or directory: 'tar'\n",
            "\n",
            "('Traceback (most recent call last):\\n  File \"/home/ryguan/.local/lib/python3.8/site-packages/tvm-0.12.dev176+g18b7dc1dd-py3.8-linux-x86_64.egg/tvm/autotvm/measure/measure_methods.py\", line 601, in __call__\\n    func.export_library(filename, self.build_func)\\n  File \"/home/ryguan/.local/lib/python3.8/site-packages/tvm-0.12.dev176+g18b7dc1dd-py3.8-linux-x86_64.egg/tvm/runtime/module.py\", line 543, in export_library\\n    return fcompile(file_name, files, **kwargs)\\n  File \"/home/ryguan/.local/lib/python3.8/site-packages/tvm-0.12.dev176+g18b7dc1dd-py3.8-linux-x86_64.egg/tvm/contrib/tar.py\", line 52, in tar\\n    proc = subprocess.Popen(cmd, stdout=subprocess.PIPE, stderr=subprocess.STDOUT)\\n  File \"/home/ryguan/miniconda3/envs/tvm-build-binding/lib/python3.8/subprocess.py\", line 858, in __init__\\n    self._execute_child(args, executable, preexec_fn, close_fds,\\n  File \"/home/ryguan/miniconda3/envs/tvm-build-binding/lib/python3.8/subprocess.py\", line 1704, in _execute_child\\n    raise child_exception_type(errno_num, err_msg, err_filename)\\nFileNotFoundError: [Errno 2] No such file or directory: \\'tar\\'\\n', FileNotFoundError(2, 'No such file or directory'))\t[('tile_y', [-1, 128]), ('tile_x', [-1, 64])],None,67\n",
            "No: 10\tGFLOPS: 0.00/0.00\tresult: Traceback (most recent call last):\n",
            "  File \"/home/ryguan/.local/lib/python3.8/site-packages/tvm-0.12.dev176+g18b7dc1dd-py3.8-linux-x86_64.egg/tvm/autotvm/measure/measure_methods.py\", line 601, in __call__\n",
            "    func.export_library(filename, self.build_func)\n",
            "  File \"/home/ryguan/.local/lib/python3.8/site-packages/tvm-0.12.dev176+g18b7dc1dd-py3.8-linux-x86_64.egg/tvm/runtime/module.py\", line 543, in export_library\n",
            "    return fcompile(file_name, files, **kwargs)\n",
            "  File \"/home/ryguan/.local/lib/python3.8/site-packages/tvm-0.12.dev176+g18b7dc1dd-py3.8-linux-x86_64.egg/tvm/contrib/tar.py\", line 52, in tar\n",
            "    proc = subprocess.Popen(cmd, stdout=subprocess.PIPE, stderr=subprocess.STDOUT)\n",
            "  File \"/home/ryguan/miniconda3/envs/tvm-build-binding/lib/python3.8/subprocess.py\", line 858, in __init__\n",
            "    self._execute_child(args, executable, preexec_fn, close_fds,\n",
            "  File \"/home/ryguan/miniconda3/envs/tvm-build-binding/lib/python3.8/subprocess.py\", line 1704, in _execute_child\n",
            "    raise child_exception_type(errno_num, err_msg, err_filename)\n",
            "FileNotFoundError: [Errno 2] No such file or directory: 'tar'\n",
            "\n",
            "('Traceback (most recent call last):\\n  File \"/home/ryguan/.local/lib/python3.8/site-packages/tvm-0.12.dev176+g18b7dc1dd-py3.8-linux-x86_64.egg/tvm/autotvm/measure/measure_methods.py\", line 601, in __call__\\n    func.export_library(filename, self.build_func)\\n  File \"/home/ryguan/.local/lib/python3.8/site-packages/tvm-0.12.dev176+g18b7dc1dd-py3.8-linux-x86_64.egg/tvm/runtime/module.py\", line 543, in export_library\\n    return fcompile(file_name, files, **kwargs)\\n  File \"/home/ryguan/.local/lib/python3.8/site-packages/tvm-0.12.dev176+g18b7dc1dd-py3.8-linux-x86_64.egg/tvm/contrib/tar.py\", line 52, in tar\\n    proc = subprocess.Popen(cmd, stdout=subprocess.PIPE, stderr=subprocess.STDOUT)\\n  File \"/home/ryguan/miniconda3/envs/tvm-build-binding/lib/python3.8/subprocess.py\", line 858, in __init__\\n    self._execute_child(args, executable, preexec_fn, close_fds,\\n  File \"/home/ryguan/miniconda3/envs/tvm-build-binding/lib/python3.8/subprocess.py\", line 1704, in _execute_child\\n    raise child_exception_type(errno_num, err_msg, err_filename)\\nFileNotFoundError: [Errno 2] No such file or directory: \\'tar\\'\\n', FileNotFoundError(2, 'No such file or directory'))\t[('tile_y', [-1, 8]), ('tile_x', [-1, 8])],None,33\n"
          ]
        },
        {
          "name": "stderr",
          "output_type": "stream",
          "text": [
            "WARNING:root:Could not find any valid schedule for task Task(func_name=tutorial/matmul, args=(512, 512, 512, 'float32'), kwargs={}, workload=('tutorial/matmul', 512, 512, 512, 'float32')). A file containing the errors has been written to /tmp/tvm_tuning_errors_9lhbwhaf.log.\n"
          ]
        }
      ],
      "source": [
        "measure_option = autotvm.measure_option(builder=\"local\", runner=autotvm.LocalRunner(number=5))\n",
        "\n",
        "# Begin tuning with RandomTuner, log records to file `matmul.log`\n",
        "# You can use alternatives like XGBTuner.\n",
        "tuner = autotvm.tuner.RandomTuner(task)\n",
        "tuner.tune(\n",
        "    n_trial=10,\n",
        "    measure_option=measure_option,\n",
        "    callbacks=[autotvm.callback.log_to_file(\"matmul.log\")],\n",
        ")"
      ]
    },
    {
      "cell_type": "markdown",
      "metadata": {},
      "source": [
        "With tuning completed, we can choose the configuration from the log file that\n",
        "has the best measured performance and compile the schedule with the\n",
        "corresponding parameters. We also do a quick verification that the schedule is\n",
        "producing correct answers.  We can call the function :code:`matmul` directly\n",
        "under the :any:`autotvm.apply_history_best` context. When we call this\n",
        "function, it will query the dispatch context with its argument and get the\n",
        "best config with the same argument.\n",
        "\n"
      ]
    },
    {
      "cell_type": "code",
      "execution_count": null,
      "metadata": {
        "collapsed": false
      },
      "outputs": [],
      "source": [
        "# apply history best from log file\n",
        "with autotvm.apply_history_best(\"matmul.log\"):\n",
        "    with tvm.target.Target(\"llvm\"):\n",
        "        s, arg_bufs = matmul(N, L, M, \"float32\")\n",
        "        func = tvm.build(s, arg_bufs)\n",
        "\n",
        "# check correctness\n",
        "a_np = np.random.uniform(size=(N, L)).astype(np.float32)\n",
        "b_np = np.random.uniform(size=(L, M)).astype(np.float32)\n",
        "c_np = a_np.dot(b_np)\n",
        "\n",
        "c_tvm = tvm.nd.empty(c_np.shape)\n",
        "func(tvm.nd.array(a_np), tvm.nd.array(b_np), c_tvm)\n",
        "\n",
        "tvm.testing.assert_allclose(c_np, c_tvm.numpy(), rtol=1e-4)"
      ]
    },
    {
      "cell_type": "markdown",
      "metadata": {},
      "source": [
        "## Final Notes and Summary\n",
        "In this tutorial, we have shown how to build operator templates that allow\n",
        "TVM to search a parameter space and choose optimized schedule configurations.\n",
        "To gain a deeper understanding of how this works, we recommend expanding on\n",
        "this example by adding new search parameters to the schedule based on\n",
        "schedule operations demonstrated in the :ref: `Getting Started With Tensor\n",
        "Expressions <tensor_expr_get_started>_` tutorial. In the upcoming sections, we\n",
        "will demonstrate the AutoScheduler, a method for TVM to optimize common\n",
        "operators without the need for the user to provide a user-defined template.\n",
        "\n"
      ]
    }
  ],
  "metadata": {
    "kernelspec": {
      "display_name": "tvm-build-binding",
      "language": "python",
      "name": "python3"
    },
    "language_info": {
      "codemirror_mode": {
        "name": "ipython",
        "version": 3
      },
      "file_extension": ".py",
      "mimetype": "text/x-python",
      "name": "python",
      "nbconvert_exporter": "python",
      "pygments_lexer": "ipython3",
      "version": "3.8.16"
    },
    "vscode": {
      "interpreter": {
        "hash": "400f399043f899df7d546bcb6063b1538c013427ed509bbd25e6c99d0cce4f96"
      }
    }
  },
  "nbformat": 4,
  "nbformat_minor": 0
}
